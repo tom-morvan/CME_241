{
 "cells": [
  {
   "cell_type": "code",
   "execution_count": 1,
   "metadata": {},
   "outputs": [],
   "source": [
    "from IPython.display import Image\n",
    "import matplotlib.pyplot as plt\n",
    "import numpy as np\n",
    "from numpy.linalg import inv"
   ]
  },
  {
   "cell_type": "code",
   "execution_count": 2,
   "metadata": {},
   "outputs": [],
   "source": [
    "def get_states(n):\n",
    "    return (range(0,n+1))"
   ]
  },
  {
   "cell_type": "code",
   "execution_count": 3,
   "metadata": {},
   "outputs": [],
   "source": [
    "def get_transition_A(n):\n",
    "    P = np.zeros((n+1,n+1))\n",
    "    P[0,0] = 1\n",
    "    P[n,n] = 1\n",
    "    for i in range(1,n):\n",
    "        P[i,i+1] = (n-i)/n\n",
    "        P[i,i-1] = i/n\n",
    "    return(P) "
   ]
  },
  {
   "cell_type": "code",
   "execution_count": 4,
   "metadata": {},
   "outputs": [],
   "source": [
    "def get_transition_B(n):\n",
    "    P = np.zeros((n+1,n+1))\n",
    "    P[0,0] = 1\n",
    "    P[n,n] = 1\n",
    "    for i in range(1,n):\n",
    "        for j in range(0,n+1):\n",
    "            if i != j:\n",
    "                P[i,j] = 1/n\n",
    "    return(P)"
   ]
  },
  {
   "cell_type": "code",
   "execution_count": 5,
   "metadata": {},
   "outputs": [],
   "source": [
    "def get_rewards_A(n):\n",
    "    R = np.zeros(n+1)\n",
    "    R[0] = -1\n",
    "    R[1] = -1/n\n",
    "    R[n-1] = 1/n\n",
    "    R[n] = 1\n",
    "    return(R)"
   ]
  },
  {
   "cell_type": "code",
   "execution_count": 6,
   "metadata": {},
   "outputs": [],
   "source": [
    "def get_rewards_B(n):\n",
    "    R = np.zeros(n+1)\n",
    "    R[0] = -1\n",
    "    R[n] = 1\n",
    "    return(R)"
   ]
  },
  {
   "cell_type": "code",
   "execution_count": 7,
   "metadata": {},
   "outputs": [],
   "source": [
    "def update_state_val(n, gamma, v_old, transition_A, transition_B, rewards_A, rewards_B):\n",
    "    v_new = np.array([max(rewards_A[i] + gamma*np.dot(transition_A[i,:],v_old), \n",
    "                          rewards_B[i] + gamma*np.dot(transition_B[i,:],v_old)) for i in range(0,n+1)])\n",
    "    return(v_new)"
   ]
  },
  {
   "cell_type": "code",
   "execution_count": 8,
   "metadata": {},
   "outputs": [],
   "source": [
    "def value_iteration(n_iter, n, gamma, v_0, transition_A, transition_B, rewards_A, rewards_B):\n",
    "    for k in range(0,n_iter):\n",
    "        v_0 = update_state_val(n, gamma, v_0, transition_A, transition_B, rewards_A, rewards_B)\n",
    "    return(v_0)"
   ]
  },
  {
   "cell_type": "code",
   "execution_count": 9,
   "metadata": {},
   "outputs": [],
   "source": [
    "def get_policy(n, gamma, v, transition_A, transition_B, rewards_A, rewards_B):\n",
    "    policy = []\n",
    "    for i in range(0,n+1):\n",
    "        q_A = rewards_A[i] + gamma*np.dot(transition_A[i,:],v)\n",
    "        q_B = rewards_B[i] + gamma*np.dot(transition_B[i,:],v)\n",
    "        policy.append('A') if q_A > q_B else policy.append('B')\n",
    "    return policy"
   ]
  },
  {
   "cell_type": "code",
   "execution_count": 10,
   "metadata": {},
   "outputs": [],
   "source": [
    "def get_transition_policy(n, transition_A, transition_B, policy):\n",
    "    transition_policy = np.zeros((n+1, n+1))\n",
    "    for i in range(0,n+1):\n",
    "        transition_policy[i,:] = transition_A[i,:] if policy[i] == 'A' else transition_B[i,:]\n",
    "    return(transition_policy)"
   ]
  },
  {
   "cell_type": "code",
   "execution_count": 11,
   "metadata": {},
   "outputs": [],
   "source": [
    "def probability_distribution(n, transition_policy):\n",
    "    \n",
    "    #We reorder our transition matrix to \n",
    "    #isolate transient states from absorbant states\n",
    "    transition_policy = np.copy(transition_policy)\n",
    "    transition_policy = np.roll(transition_policy,-1,axis=0)\n",
    "    transition_policy = np.roll(transition_policy,-1,axis=1)\n",
    "        \n",
    "    Q = transition_policy[0:-2,0:-2]\n",
    "    R = transition_policy[0:-2,-2:]\n",
    "    N = inv(np.eye(n-1)-Q)\n",
    "    \n",
    "    result = np.dot(N,R)\n",
    "    \n",
    "    return(result[:,0])\n",
    "    "
   ]
  },
  {
   "cell_type": "code",
   "execution_count": 12,
   "metadata": {},
   "outputs": [],
   "source": [
    "def plot_result(n, result, policy):\n",
    "        X = range(1,n)\n",
    "        Y = result\n",
    "        plt.figure()\n",
    "        plt.bar(X,Y, width=0.5)\n",
    "        for i in range(1, n):\n",
    "            plt.annotate(policy[i], xy=(X[i-1],Y[i-1]))\n",
    "        fig_name = 'figure' + str(n) + '.png'\n",
    "        plt.savefig(fig_name)\n",
    "        plt.show()"
   ]
  },
  {
   "cell_type": "code",
   "execution_count": 13,
   "metadata": {},
   "outputs": [],
   "source": [
    "def MDP(n, gamma, n_iter):\n",
    "    \n",
    "    # ---- Building MDP ----\n",
    "    S = get_states(n)\n",
    "    transition_A = get_transition_A(n)\n",
    "    transition_B = get_transition_B(n)\n",
    "    rewards_A = get_rewards_A(n)\n",
    "    rewards_B = get_rewards_B(n)\n",
    "    # ----------------------\n",
    "\n",
    "    # ---- Solving MDP -----\n",
    "    v_0 = np.zeros(n+1)\n",
    "    v_0[0] = -1\n",
    "    v_0[n] = 1\n",
    "\n",
    "    v = value_iteration(n_iter, n, gamma, v_0, transition_A, transition_B, rewards_A, rewards_B)\n",
    "    policy = get_policy(n, gamma, v, transition_A, transition_B, rewards_A, rewards_B)\n",
    "    transition_policy = get_transition_policy(n, transition_A, transition_B, policy)\n",
    "    # ----------------------\n",
    "\n",
    "    # ---- Plot results -----\n",
    "    result = probability_distribution(n, transition_policy)\n",
    "    #plot_result(n, result, policy) - Commented for PDF export\n",
    "    # -----------------------\n",
    "    "
   ]
  },
  {
   "cell_type": "code",
   "execution_count": 14,
   "metadata": {},
   "outputs": [
    {
     "data": {
      "image/png": "[encoded data removed]",
      "text/plain": [
       "<Figure size 432x288 with 1 Axes>"
      ]
     },
     "metadata": {
      "needs_background": "light"
     },
     "output_type": "display_data"
    }
   ],
   "source": [
    "MDP(3, 0.8, 1000)"
   ]
  },
  {
   "cell_type": "code",
   "execution_count": 15,
   "metadata": {},
   "outputs": [
    {
     "data": {
      "image/png": "[encoded data removed]",
      "text/plain": [
       "<Figure size 432x288 with 1 Axes>"
      ]
     },
     "metadata": {
      "needs_background": "light"
     },
     "output_type": "display_data"
    }
   ],
   "source": [
    "MDP(10,0.8,1000)"
   ]
  },
  {
   "cell_type": "code",
   "execution_count": 16,
   "metadata": {},
   "outputs": [
    {
     "data": {
      "image/png": "[encoded data removed]",
      "text/plain": [
       "<Figure size 432x288 with 1 Axes>"
      ]
     },
     "metadata": {
      "needs_background": "light"
     },
     "output_type": "display_data"
    }
   ],
   "source": [
    "MDP(25,0.8,1000)"
   ]
  }
 ],
 "metadata": {
  "kernelspec": {
   "display_name": "Python 3",
   "language": "python",
   "name": "python3"
  },
  "language_info": {
   "codemirror_mode": {
    "name": "ipython",
    "version": 3
   },
   "file_extension": ".py",
   "mimetype": "text/x-python",
   "name": "python",
   "nbconvert_exporter": "python",
   "pygments_lexer": "ipython3",
   "version": "3.7.3"
  }
 },
 "nbformat": 4,
 "nbformat_minor": 2
}
