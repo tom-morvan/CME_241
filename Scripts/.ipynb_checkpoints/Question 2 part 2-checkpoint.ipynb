{
 "cells": [
  {
   "cell_type": "code",
   "execution_count": 1,
   "metadata": {},
   "outputs": [],
   "source": [
    "import numpy as np"
   ]
  },
  {
   "cell_type": "code",
   "execution_count": 2,
   "metadata": {},
   "outputs": [],
   "source": [
    "def get_transition_A(n, P, alpha):\n",
    "    transition_A = np.zeros((n+1,n+1))\n",
    "    for i in range(1,n+1):\n",
    "        transition_A[i,i] = 1 - alpha\n",
    "        transition_A[i,0] = alpha\n",
    "        transition_A[0,i] = P[i-1]\n",
    "    return(transition_A)"
   ]
  },
  {
   "cell_type": "code",
   "execution_count": 3,
   "metadata": {},
   "outputs": [],
   "source": [
    "def get_transition_D(n, alpha):\n",
    "    transition_D = np.zeros((n+1,n+1))\n",
    "    transition_D[0,0] = 1\n",
    "    for i in range(1,n+1):\n",
    "        transition_D[i,i] = 1 - alpha\n",
    "        transition_D[i,0] = alpha\n",
    "    return(transition_D)"
   ]
  },
  {
   "cell_type": "code",
   "execution_count": 4,
   "metadata": {},
   "outputs": [],
   "source": [
    "def CRRA(x,a):\n",
    "    if a==1:\n",
    "        return(np.log(x))\n",
    "    else:\n",
    "        return((x**(1-a)-1)/(1-a))"
   ]
  },
  {
   "cell_type": "code",
   "execution_count": 5,
   "metadata": {},
   "outputs": [],
   "source": [
    "def get_rewards_A(n, W, P, alpha, a):\n",
    "    R = np.zeros(n+1)\n",
    "    for w, p in zip(W[1:],P):\n",
    "        R[0] += p*CRRA(w, a)\n",
    "    for i in range(1,n+1):\n",
    "        R[i] = (1-alpha)*CRRA(W[i], a) + alpha*CRRA(W[0], a)\n",
    "    return(R)    "
   ]
  },
  {
   "cell_type": "code",
   "execution_count": 6,
   "metadata": {},
   "outputs": [],
   "source": [
    "def get_rewards_D(n, W, alpha, a):\n",
    "    R = np.zeros(n+1)\n",
    "    R[0] = CRRA(W[0], a)\n",
    "    for i in range(1,n+1):\n",
    "        R[i] = (1-alpha)*CRRA(W[i], a) + alpha*CRRA(W[0], a)\n",
    "    return(R)"
   ]
  },
  {
   "cell_type": "code",
   "execution_count": 7,
   "metadata": {},
   "outputs": [],
   "source": [
    "def update_state_val(n, gamma, v_old, transition_A, transition_D, rewards_A, rewards_D):\n",
    "    v_new = np.array([max(rewards_A[i] + gamma*np.dot(transition_A[i,:],v_old), \n",
    "                          rewards_D[i] + gamma*np.dot(transition_D[i,:],v_old)) for i in range(0,n+1)])\n",
    "    return(v_new)"
   ]
  },
  {
   "cell_type": "code",
   "execution_count": 8,
   "metadata": {},
   "outputs": [],
   "source": [
    "def value_iteration(n_iter, n, gamma, v_0, transition_A, transition_D, rewards_A, rewards_D):\n",
    "    for k in range(0,n_iter):\n",
    "        v_0 = update_state_val(n, gamma, v_0, transition_A, transition_D, rewards_A, rewards_D)\n",
    "    return(v_0)"
   ]
  },
  {
   "cell_type": "code",
   "execution_count": 9,
   "metadata": {},
   "outputs": [],
   "source": [
    "def get_policy(n, gamma, v, transition_A, transition_D, rewards_A, rewards_D):\n",
    "    policy = []\n",
    "    for i in range(0,n+1):\n",
    "        q_A = rewards_A[i] + gamma*np.dot(transition_A[i,:],v)\n",
    "        q_D = rewards_D[i] + gamma*np.dot(transition_D[i,:],v)\n",
    "        policy.append('A') if q_A > q_D else policy.append('D')\n",
    "    return policy"
   ]
  },
  {
   "cell_type": "code",
   "execution_count": 10,
   "metadata": {},
   "outputs": [],
   "source": [
    "# ---- Input -----\n",
    "n = 10\n",
    "S = range(0,n+1)\n",
    "W = range(1,n+2)\n",
    "alpha = 0.1\n",
    "a = 0.5\n",
    "P = [1/n for i in range(0,n)]\n",
    "n_iter = 1000\n",
    "gamma = 0.5\n",
    "\n",
    "# ---- Building MDP ----\n",
    "transition_A = get_transition_A(n, P, alpha)\n",
    "transition_D = get_transition_D(n, alpha)\n",
    "rewards_A = get_rewards_A(n, W, P, alpha, a)\n",
    "rewards_D = get_rewards_D(n, W, alpha, a)\n",
    "# ----------------------\n",
    "\n",
    "# ---- Solving MDP -----\n",
    "v_0 = np.ones(n+1) #Random init\n",
    "\n",
    "v = value_iteration(n_iter, n, gamma, v_0, transition_A, transition_D, rewards_A, rewards_D)\n",
    "policy = get_policy(n, gamma, v, transition_A, transition_D, rewards_A, rewards_D)"
   ]
  },
  {
   "cell_type": "code",
   "execution_count": 11,
   "metadata": {},
   "outputs": [
    {
     "data": {
      "text/plain": [
       "['A', 'D', 'D', 'D', 'D', 'D', 'D', 'D', 'D', 'D', 'D']"
      ]
     },
     "execution_count": 11,
     "metadata": {},
     "output_type": "execute_result"
    }
   ],
   "source": [
    "policy"
   ]
  },
  {
   "cell_type": "code",
   "execution_count": null,
   "metadata": {},
   "outputs": [],
   "source": []
  }
 ],
 "metadata": {
  "kernelspec": {
   "display_name": "Python 3",
   "language": "python",
   "name": "python3"
  },
  "language_info": {
   "codemirror_mode": {
    "name": "ipython",
    "version": 3
   },
   "file_extension": ".py",
   "mimetype": "text/x-python",
   "name": "python",
   "nbconvert_exporter": "python",
   "pygments_lexer": "ipython3",
   "version": "3.7.3"
  }
 },
 "nbformat": 4,
 "nbformat_minor": 2
}
